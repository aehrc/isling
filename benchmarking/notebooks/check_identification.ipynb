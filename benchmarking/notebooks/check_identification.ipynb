{
 "cells": [
  {
   "cell_type": "code",
   "execution_count": 59,
   "metadata": {},
   "outputs": [],
   "source": [
    "from Bio import SeqIO"
   ]
  },
  {
   "cell_type": "code",
   "execution_count": 60,
   "metadata": {},
   "outputs": [],
   "source": [
    "host_dict = SeqIO.to_dict(SeqIO.parse(\"test_ints.fa\", \"fasta\"))"
   ]
  },
  {
   "cell_type": "code",
   "execution_count": 64,
   "metadata": {
    "scrolled": true
   },
   "outputs": [
    {
     "data": {
      "text/plain": [
       "'zzzzzzzzzzzzzzgccgccccaaaaccgattttcagtttttgaccttcaaggttccttcacggcgagcgagagagagagagagtgagagtgtgagcgcggctcgcagtcgcggtcggcgccggcagcgcagcagcagcgacagcgaaaagtgagcaccagtcggcgagtgaatttaatttcgtaaaaaacgttccgagcgtttggacgcgtgcagcggacgaaaataaaacacggcgagagcgagaatcgtgtgtgtggacactcaaagactcaaaattgaaaccaactcgaaaaggttgcactgcaaatgcccaagtagaaaagccaacgcgagtgtgcacatcgaatacgaaaattgtaaacgttttttttttgccgtgtgagtgcaagcgcataagatcgaagaaaaacagccagagcaagaaagaaccgaaaaaaggcagagagaatcaaaaaagaaaaaaggaaaaaaaaaacaagcaggaaaacaccaacataataatggatcgggagctgaacggggcgatgaagagcgtgtccataaatagcgcccaactgaatggtcacaataacggtggcgggctagatgaaacggaccgcgtgggcgtggcacagggggcgazzzzzzzzzzzzzzzzzzzzggcaagcactgagtgcaacagagaaaattacaacaacgacggcggcagctacaaaatcagcgacagcgaccacaaatgcaaccacagcaacagccacaaccacaaatcttacaactcacagcccgcagcaaattgcactcttatccgctgcagagaaaagtaagatggtgcacgagttatgtcagcagctgcttctaacggacgaacaggtgcaggagctgtgctaccgcatcctgcacgagctgcgccgcggcctggccaaggatacacatcccaaggcgaatgtcaagtgcttcgtaacgtatgtgcaggatctgcccaatggcaatgagcgtggcaagttcttggccttggatctgggtggcaccaacttccgggtgctgctcatccatctgcaggagaacaacgattttcaaatggagtcccgcatctatgccataccgcagcacattatgattggatcgggtacacagctattcgatcacatcgccgaatgtctgtccaactttatggccgagcacaatgtgtacaaggagcgtttgccactcggtttcaccttctcgttcccgctgcgccaattgggtctgaccaagggcctgctggagacctggaccaagggcttcaactgcgctggcgtcgtcaacgaggatgttgtccagttgctaaaggatgccatcgcacggcgcggcgatgtccagatcgatgtgtgtgccatactcaatgacaccactggcacgctgatgagctgcgcctggaagaatcacaactgcaagatcggtctgattgtcggcaccggtgcaaatgcctgctatatggagcgtgtggaggaggcggagctcttcgccgccgaggatccgcgcaagaagcacgtcctgatcaacacggaatggggcgcattcggcgacaatggcgcactggactttgtgcgcaccgaattcgatcgggacatcgatgtgcacagcatcaatccgggcaagcagacgttcgagaagatgatatcgggcatgtatatgggcgagctggtgcgtctggtgctggtgaagatgacccaggcgggtatactcttcaatggacaggattccgaagtgctaaacacccgcggactgttcttcaccaagtatgtgagcgaaattgaagctgacgagccaggcaacttcaccaattgccgcctggtgctggaggagctcggtctgaccaatgccaccgacggggactgcgccaatgtgcggtacatctgcgagtgcgtctcgaaacgggctgcccacctggtgtccgccggcattgccacgctgatcaacaaaatggacgagccaacggtgacggtgggcgtcgatggcagtgtgtaccgcttccatcccaagttccataacctgatggtcgagaagatctcgcagctgatcaagccgggcatcaccttcgatctgatgctgtccgaggacggttccggtcgtggagctgccctggtggcggccgtcgcctgtcgcgaagacatactcaatggcaagaagtaggatggatagggagctggagctggatcaggaaccaggaggaggagccgctggagcagctggagcagtcctaagagatacagcaacacacccacacaaccacaaaaacagcagagcaaatgagaaatacctagtaaacggccacggtggcgtatgcgtaataattacagtagagccacgctaactcacaaaagccctatagccaaacgatatgaaaaaatgaagctgccacgacgaaaagtaatcgaaaagcccacgaaaaacttatatgtgcatacgtagggcatttgtgagttggcgcgacttggctttagtattttaattaggcaaaaaccaggtttttcactacaaacacaagcgtaacagaaacccccccactaagagacagaagatctgtggcattctatctctttctctcctagtaaaagaaaacaaagaagaagaaaaaacactatgcttaatgattatggatcgattttcgatttttgttgaaaatttgttatgctattatatatatatatattttacaagaaaacataatatacacacactaaaaacataatgtatatgtttgcgtatatatagtacaatttgtgaagcgaatttcttttcgatttcgattgaaacaacaaattttttttggtaattccctgcccaaaagacccctgaaacccccctaaaaaaacggagatacttaagagcaagtgagaaaagaaactgttatactactgtgctacaagcattctagcatatcctgcaggacaacggaaagagaaactgtaaaaccgcacattgttaaagcaaaaacgaaaacgaaaaaagcaacaaaaaacaagccgctagagaagagacagaaacagagggatagaaaggaagagagcgagagagagcgagcgagagaaagagagagaggattactaggtaatgctacggtgtcctttctgtaattgtaaatgtttatatagaacctattacgaagcgttatatgataatactgcatacatatatataaatataaatatgatatatttagccactatattactgatttttttttttgtaatgtattgcttgtctttgtttagtgaatttgtttgttgttaacacttaagcaggtaaactctaaacaaaaataaactgtttttttttttccttttgatatagaaacgcactttgtgagctattatttatgtaattgtacatttgacctagtttagtgtttagttcttatcttagtttctaaatgtcgtcgaagaagccagcaatacaaccaatataatacccccaccccaaaaaaaaaacccaacccacgcagcccttaattatatttaattattgtttacgaacaacaaacgaagagaatgcgagaagctaaaaggcaaataagcaaaatggaaagcaaataaaatttgttcttaattcatacacaagtagttgttacttatttctcccaaattaattggttttccaaagtgattaggttttttccagattgatttcagtatgatttgatctgttttccatatgattcggtatcatttgatcatttttgcagctgctggccggcatgctcagtcaacacaaaaacttaaacaattcgcaattgaggcaaaacgaagatacatttttttggtctaatactaagcggagaatgagcctaacctaagagatatgttataataaatggcgggagcagcgaaccagtgtttctatttttcaagaaagaaaaaaacgaaaaacaagaagaatgtaatataaacttagcccatgttaaaatgaaaattgaaaaccaattaaaaactctcgttatcaaaaggcgattcaaacataaattgctaagaacaaacaaacacaaatcgaaggcttgaaagtgcagatgagatgaatttagtaaatgatataaacaaatggaatgtttgtcaacagtgaagcaaaataaagacgattgaaccaaacaacagagaagcaaatc'"
      ]
     },
     "execution_count": 64,
     "metadata": {},
     "output_type": "execute_result"
    }
   ],
   "source": [
    "str(host_dict.get('host').seq)[94:]"
   ]
  },
  {
   "cell_type": "code",
   "execution_count": 103,
   "metadata": {
    "scrolled": true
   },
   "outputs": [
    {
     "data": {
      "text/plain": [
       "'zzzzzzzzzzzzzzzzzzzzt'"
      ]
     },
     "execution_count": 103,
     "metadata": {},
     "output_type": "execute_result"
    }
   ],
   "source": [
    "from Bio import SeqIO\n",
    "host_dict = SeqIO.to_dict(SeqIO.parse(\"test_ints.fa\", \"fasta\"))\n",
    "str(host_dict.get('host').seq)[1762:1783]"
   ]
  },
  {
   "cell_type": "code",
   "execution_count": 88,
   "metadata": {},
   "outputs": [
    {
     "data": {
      "text/plain": [
       "'bcde'"
      ]
     },
     "execution_count": 88,
     "metadata": {},
     "output_type": "execute_result"
    }
   ],
   "source": [
    "seq = \"abcdefghi\" \n",
    "seq[1:5]"
   ]
  },
  {
   "cell_type": "code",
   "execution_count": null,
   "metadata": {},
   "outputs": [],
   "source": []
  }
 ],
 "metadata": {
  "kernelspec": {
   "display_name": "Python 3",
   "language": "python",
   "name": "python3"
  },
  "language_info": {
   "codemirror_mode": {
    "name": "ipython",
    "version": 3
   },
   "file_extension": ".py",
   "mimetype": "text/x-python",
   "name": "python",
   "nbconvert_exporter": "python",
   "pygments_lexer": "ipython3",
   "version": "3.7.3"
  }
 },
 "nbformat": 4,
 "nbformat_minor": 2
}
