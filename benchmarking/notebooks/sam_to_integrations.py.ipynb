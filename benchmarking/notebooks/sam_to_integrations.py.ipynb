{
 "cells": [
  {
   "cell_type": "code",
   "execution_count": 1,
   "metadata": {
    "scrolled": true
   },
   "outputs": [],
   "source": [
    "#import libraries \n",
    "from simplesam import Reader \n",
    "import pandas as pd\n",
    "#import argparse"
   ]
  },
  {
   "cell_type": "markdown",
   "metadata": {},
   "source": [
    "As we performed paired end sequencing the sam file includes the read from the end of each insert .Thus, to find the coordinates of each read (insert) we need only to consider every second entry\n",
    "self.pos returns the left most point of the read and self.tlen returns the length of the entire read.Also note that SAM files use a 1 based coordinate system (unlike the 0 based coordinate system) therefore this must be converted.Therefore if self is the left read of a sequence the coordinates of the read are given by (x.pos-1,x.pos+x.tlen-1)."
   ]
  },
  {
   "cell_type": "code",
   "execution_count": 2,
   "metadata": {},
   "outputs": [
    {
     "ename": "NameError",
     "evalue": "name 'argparse' is not defined",
     "output_type": "error",
     "traceback": [
      "\u001b[0;31m---------------------------------------------------------------------------\u001b[0m",
      "\u001b[0;31mNameError\u001b[0m                                 Traceback (most recent call last)",
      "\u001b[0;32m<ipython-input-2-7203d04a57ba>\u001b[0m in \u001b[0;36m<module>\u001b[0;34m\u001b[0m\n\u001b[1;32m      1\u001b[0m \u001b[0;31m#make an argument parser\u001b[0m\u001b[0;34m\u001b[0m\u001b[0;34m\u001b[0m\u001b[0;34m\u001b[0m\u001b[0m\n\u001b[0;32m----> 2\u001b[0;31m parser = argparse.ArgumentParser(\n\u001b[0m\u001b[1;32m      3\u001b[0m     description='determine reads which contain viral DNA')\n\u001b[1;32m      4\u001b[0m \u001b[0;34m\u001b[0m\u001b[0m\n\u001b[1;32m      5\u001b[0m \u001b[0mparser\u001b[0m\u001b[0;34m.\u001b[0m\u001b[0madd_argument\u001b[0m\u001b[0;34m(\u001b[0m\u001b[0;34m'--sam'\u001b[0m\u001b[0;34m,\u001b[0m \u001b[0mhelp\u001b[0m \u001b[0;34m=\u001b[0m \u001b[0;34m'sam file describing simulated reads'\u001b[0m\u001b[0;34m,\u001b[0m \u001b[0mrequired\u001b[0m \u001b[0;34m=\u001b[0m \u001b[0;32mTrue\u001b[0m\u001b[0;34m)\u001b[0m\u001b[0;34m\u001b[0m\u001b[0;34m\u001b[0m\u001b[0m\n",
      "\u001b[0;31mNameError\u001b[0m: name 'argparse' is not defined"
     ]
    }
   ],
   "source": [
    "#make an argument parser \n",
    "parser = argparse.ArgumentParser(\n",
    "    description='determine reads which contain viral DNA')\n",
    "\n",
    "parser.add_argument('--sam', help = 'sam file describing simulated reads', required = True)\n",
    "parser.add_argument('--host_ints', help = 'csv file describing the location of viral DNA in the human host', required = True)"
   ]
  },
  {
   "cell_type": "code",
   "execution_count": null,
   "metadata": {},
   "outputs": [],
   "source": [
    "#read in the sam file \n",
    "in_file = open('paired_dat.sam','r')\n",
    "in_sam = Reader(in_file)\n",
    "\n",
    "#read in our integration file \n",
    "integration_file = pd.read_csv('host_integrations.csv',header=0,sep='\\t')\n",
    "\n",
    "#make a df of the entries in the sam file \n",
    "df = pd.read_csv('paired_dat.sam',header=None) \n",
    "num_reads = len(df[~df[0].str.contains('@')])\n",
    "num_inserts = int(num_reads/2)\n",
    "\n",
    "#list of insert IDs\n",
    "read_id = []\n",
    "\n",
    "#list of insert coordinates in the original fasta sequence\n",
    "read_coord = []\n",
    "\n",
    "for i in range(0,num_inserts): \n",
    "    x = next(in_sam)\n",
    "    y = next(in_sam)\n",
    "    read_id.append(x.qname)\n",
    "    read_coord.append((x.pos-1,x.pos+x.tlen-1))"
   ]
  },
  {
   "cell_type": "code",
   "execution_count": 3,
   "metadata": {},
   "outputs": [
    {
     "data": {
      "text/plain": [
       "4320610"
      ]
     },
     "execution_count": 3,
     "metadata": {},
     "output_type": "execute_result"
    }
   ],
   "source": [
    "num_inserts"
   ]
  },
  {
   "cell_type": "code",
   "execution_count": 3,
   "metadata": {},
   "outputs": [],
   "source": [
    "def checkOverlap(coordA,coordB):\n",
    "    \"\"\"Tells us whether coordA overlaps with coordB\"\"\"\n",
    "    status = False \n",
    "    A1, A2 = coordA\n",
    "    B1, B2 = coordB \n",
    "    if A2>B1 and A1<B1:\n",
    "        status = True \n",
    "    return status \n",
    "\n",
    "def overlapLength(coordA,coordB):\n",
    "    \"\"\"Tells us the length of the overlap betweeen coordA and coordB\"\"\"\n",
    "    A1, A2 = coordA\n",
    "    B1, B2 = coordB\n",
    "    overlap = 0\n",
    "    #isolate where overlaps occur\n",
    "    if A2>B1 and A1<B1:\n",
    "        #if overlap is at the left end of B\n",
    "        if A1<B1: \n",
    "            overlap = A2-B1\n",
    "        #if overlap is at the right end of B\n",
    "        if A2>B2: \n",
    "            overlap = B2-A1\n",
    "        #if overlap is within B \n",
    "        else: \n",
    "            overlap = A2-A1\n",
    "    return overlap "
   ]
  },
  {
   "cell_type": "code",
   "execution_count": 4,
   "metadata": {},
   "outputs": [],
   "source": [
    "#list of integration coordinates in host \n",
    "int_coord = []\n",
    "\n",
    "for i in range(len(integration_file)):\n",
    "    c1 = integration_file[\"Start point\"][i]\n",
    "    c2 = integration_file[\"Stop point\"][i]\n",
    "    int_coord.append((c1,c2))\n",
    "    \n",
    "#list of overlap statuses \n",
    "overlap_status = []\n",
    "\n",
    "#list of overlap lengths \n",
    "overlap_len = []\n",
    "\n",
    "for i in range(num_inserts):\n",
    "    overlap = 0\n",
    "    status = False\n",
    "    for j in range(len(integration_file)):\n",
    "        status = checkOverlap(read_coord[i],int_coord[j])\n",
    "        if status == True:\n",
    "            overlap = overlapLength(read_coord[i],int_coord[j])\n",
    "            break\n",
    "    overlap_status.append(status)\n",
    "    overlap_len.append(overlap)\n",
    "            "
   ]
  },
  {
   "cell_type": "code",
   "execution_count": 5,
   "metadata": {},
   "outputs": [],
   "source": [
    "#make and save a dataframe to save the output\n",
    "header = [\"read_id\",\"contains_virus\",\"virus_length\"]\n",
    "results = pd.DataFrame({\"read_id\":read_id,\n",
    "                        \"contains_virus\":overlap_status,\n",
    "                        \"virus_length\":overlap_len})"
   ]
  },
  {
   "cell_type": "code",
   "execution_count": 6,
   "metadata": {},
   "outputs": [],
   "source": [
    "results.to_csv(\"read_integrations.csv\",sep='\\t')"
   ]
  },
  {
   "cell_type": "code",
   "execution_count": null,
   "metadata": {},
   "outputs": [],
   "source": [
    "results.to_csv(index=False)"
   ]
  },
  {
   "cell_type": "code",
   "execution_count": null,
   "metadata": {},
   "outputs": [],
   "source": [
    "results.to_csv('trial.csv',sep='\\t')"
   ]
  },
  {
   "cell_type": "code",
   "execution_count": 3,
   "metadata": {},
   "outputs": [],
   "source": [
    "#read in the sam file \n",
    "in_file = open('test_dat.sam','r')\n",
    "in_sam = Reader(in_file)\n",
    "\n",
    "#read in our integration file \n",
    "integration_file = pd.read_csv('host_integrations.csv',header=0,sep='\\t')"
   ]
  },
  {
   "cell_type": "code",
   "execution_count": 6,
   "metadata": {},
   "outputs": [],
   "source": [
    "x = next(in_sam)"
   ]
  },
  {
   "cell_type": "code",
   "execution_count": 7,
   "metadata": {},
   "outputs": [
    {
     "data": {
      "text/plain": [
       "'host-280'"
      ]
     },
     "execution_count": 7,
     "metadata": {},
     "output_type": "execute_result"
    }
   ],
   "source": [
    "x.qname"
   ]
  },
  {
   "cell_type": "code",
   "execution_count": 8,
   "metadata": {},
   "outputs": [
    {
     "data": {
      "text/plain": [
       "'ATCAAAAGTTTACCCCCCCCCCCCCCCCCCCCCCTCCGCCTCCGCCGATACTGGTCGCACCCCATTATTTTAGTTCGTTCGATGCCGGGAAGTTCCAAAGCCTATCACGAGGAAGATCTCAGAAAGCGGCTTAGACTACAAGCCCCTCTG'"
      ]
     },
     "execution_count": 8,
     "metadata": {},
     "output_type": "execute_result"
    }
   ],
   "source": [
    "x.seq"
   ]
  },
  {
   "cell_type": "code",
   "execution_count": 17,
   "metadata": {},
   "outputs": [
    {
     "data": {
      "text/plain": [
       "'TACGATCACCTTATCGTTTACCTGGGTTTGTGTGGGAGATTACGGAAAAAAGGTAGGTGTCGCTTAAACCGAATCGTCACCCGCGTCTGTCGCGCCACAGGCGTGTGTTAATCCCTACGAGAGAIDCLMJYQAAAATCCGGGTGATGGAA'"
      ]
     },
     "execution_count": 17,
     "metadata": {},
     "output_type": "execute_result"
    }
   ],
   "source": [
    "y.seq"
   ]
  },
  {
   "cell_type": "code",
   "execution_count": 15,
   "metadata": {},
   "outputs": [
    {
     "data": {
      "text/plain": [
       "'host-110'"
      ]
     },
     "execution_count": 15,
     "metadata": {},
     "output_type": "execute_result"
    }
   ],
   "source": [
    "for i in range(0,1):\n",
    "#print(x.qname)\n",
    "    x = next(in_sam)\n",
    "x.qname    "
   ]
  },
  {
   "cell_type": "code",
   "execution_count": 17,
   "metadata": {},
   "outputs": [
    {
     "data": {
      "text/plain": [
       "'ACCTATGATGATCTGCCGCCAAGGTCCGCCTTATGTTAATGGGACCGTTAGGTACTACTGGGGCTGGATCCCCATACAGCTAAAGGTATCAGGTAGGTCTTTAGGACAAAGTCCGAGAGATGTTCGGGCACCAGGACGTTAGTCATGGGA'"
      ]
     },
     "execution_count": 17,
     "metadata": {},
     "output_type": "execute_result"
    }
   ],
   "source": [
    "x.seq"
   ]
  },
  {
   "cell_type": "code",
   "execution_count": 20,
   "metadata": {},
   "outputs": [],
   "source": [
    "q = next(in_sam)"
   ]
  },
  {
   "cell_type": "code",
   "execution_count": 22,
   "metadata": {},
   "outputs": [
    {
     "data": {
      "text/plain": [
       "'GTTTATCCCGCTCTGCCGCTAAGCGAAGGATTCCGTTCGAAACGCTTCAGTAGAAATCACCGAACGACGTTTGCCCACCGCGACAGCCACCTNNNNNNNNNNNACTCACCCCCAGGCTGCGCTGACCCAAAAGCCTGTGGCGAAACCCTT'"
      ]
     },
     "execution_count": 22,
     "metadata": {},
     "output_type": "execute_result"
    }
   ],
   "source": [
    "q.seq"
   ]
  },
  {
   "cell_type": "code",
   "execution_count": null,
   "metadata": {},
   "outputs": [],
   "source": []
  }
 ],
 "metadata": {
  "kernelspec": {
   "display_name": "Python 3",
   "language": "python",
   "name": "python3"
  },
  "language_info": {
   "codemirror_mode": {
    "name": "ipython",
    "version": 3
   },
   "file_extension": ".py",
   "mimetype": "text/x-python",
   "name": "python",
   "nbconvert_exporter": "python",
   "pygments_lexer": "ipython3",
   "version": "3.7.3"
  }
 },
 "nbformat": 4,
 "nbformat_minor": 2
}
